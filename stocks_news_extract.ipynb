{
 "cells": [
  {
   "cell_type": "markdown",
   "metadata": {},
   "source": [
    "Installing the required libraries\n",
    "Open the terminal and activate the conda environment to install the packages.\n",
    "\n",
    "!pip install newspaper3k\n",
    "!pip install GoogleNews\n",
    "!pip install nltk"
   ]
  },
  {
   "cell_type": "markdown",
   "metadata": {},
   "source": [
    "Importing the libraries"
   ]
  },
  {
   "cell_type": "code",
   "execution_count": 2,
   "metadata": {},
   "outputs": [],
   "source": [
    "import pandas as pd\n",
    "import datetime as dt\n",
    "from GoogleNews import GoogleNews\n",
    "from newspaper import Article\n",
    "from newspaper import Config"
   ]
  },
  {
   "cell_type": "code",
   "execution_count": 37,
   "metadata": {},
   "outputs": [],
   "source": [
    "def config_extract_news():\n",
    "    now = dt.date.today()\n",
    "    now = now.strftime('%m-%d-%Y')\n",
    "    yesterday = dt.date.today() - dt.timedelta(days = 1)\n",
    "    yesterday = yesterday.strftime('%m-%d-%Y')\n",
    "\n",
    "    #nltk.download('punkt')\n",
    "    user_agent = 'Mozilla/5.0 (Macintosh; Intel Mac OS X 10.15; rv:78.0) Gecko/20100101 Firefox/78.0'\n",
    "    config = Config()\n",
    "    config.browser_user_agent = user_agent\n",
    "    config.request_timeout = 10\n",
    "    \n",
    "config_extract_news()"
   ]
  },
  {
   "cell_type": "code",
   "execution_count": 40,
   "metadata": {},
   "outputs": [],
   "source": [
    "def extract_news(company_ticker):\n",
    "    if company_ticker != '':\n",
    "        print(f'Searching for and analyzing {company_ticker}, Please be patient, it might take a while...')\n",
    "        #Extract News uysing Google News\n",
    "        google_news = GoogleNews(start=yesterday,end=now)\n",
    "        google_news.search(company_ticker)\n",
    "        result_news = google_news.result()\n",
    "        #store the results in dataframe\n",
    "        df = pd.DataFrame(result_news)\n",
    "        print(df.tail(2))\n",
    "        return df\n",
    "    else :\n",
    "        print(\"Please enter company ticker name\")"
   ]
  },
  {
   "cell_type": "code",
   "execution_count": 87,
   "metadata": {},
   "outputs": [
    {
     "name": "stdout",
     "output_type": "stream",
     "text": [
      "Searching for and analyzing TATA MOTORS, Please be patient, it might take a while...\n",
      "                                       title    media          date  \\\n",
      "8       Auto rally powers Nifty above 18,000  Reuters   8 hours ago   \n",
      "9  India car sales analysed – September 2021  CarWale  15 hours ago   \n",
      "\n",
      "                    datetime  \\\n",
      "8 2021-10-11 16:44:46.755557   \n",
      "9 2021-10-11 09:44:46.755557   \n",
      "\n",
      "                                                desc  \\\n",
      "8  Tata Motors had said here on Friday that JLR's...   \n",
      "9  Tata Motors is the only one among the top-five...   \n",
      "\n",
      "                                                link  \\\n",
      "8  https://www.reuters.com/article/india-stocks/a...   \n",
      "9  https://www.carwale.com/news/india-car-sales-a...   \n",
      "\n",
      "                                                 img  \n",
      "8  data:image/gif;base64,R0lGODlhAQABAIAAAP//////...  \n",
      "9  data:image/gif;base64,R0lGODlhAQABAIAAAP//////...  \n"
     ]
    }
   ],
   "source": [
    "#enter company name/ticker name for extract news\n",
    "company_name = \"TATA MOTORS\"\n",
    "df_news=extract_news(company_name)"
   ]
  },
  {
   "cell_type": "code",
   "execution_count": 56,
   "metadata": {},
   "outputs": [
    {
     "data": {
      "text/plain": [
       "pandas.core.frame.DataFrame"
      ]
     },
     "execution_count": 56,
     "metadata": {},
     "output_type": "execute_result"
    }
   ],
   "source": [
    "type(df_news)"
   ]
  },
  {
   "cell_type": "code",
   "execution_count": 92,
   "metadata": {},
   "outputs": [
    {
     "data": {
      "text/plain": [
       "(10, 7)"
      ]
     },
     "execution_count": 92,
     "metadata": {},
     "output_type": "execute_result"
    }
   ],
   "source": [
    "df_news.shape"
   ]
  },
  {
   "cell_type": "code",
   "execution_count": 93,
   "metadata": {},
   "outputs": [
    {
     "data": {
      "text/plain": [
       "Index(['title', 'media', 'date', 'datetime', 'desc', 'link', 'img'], dtype='object')"
      ]
     },
     "execution_count": 93,
     "metadata": {},
     "output_type": "execute_result"
    }
   ],
   "source": [
    "df_news.columns"
   ]
  },
  {
   "cell_type": "code",
   "execution_count": 59,
   "metadata": {},
   "outputs": [
    {
     "data": {
      "text/plain": [
       "0    Monday's top brokerage calls: TCS, Tata Motors...\n",
       "1    Tata Stocks at full throttle on robust Q2, bus...\n",
       "2    Tata Motors shares rally over 21% in 5 days. I...\n",
       "3    Tata Motors and Tata Power set up EV charging ...\n",
       "4    Function first, form second as Tata Punch look...\n",
       "5    Buy Tata Motors, target price Rs 450: ICICI Di...\n",
       "6    Stocks in focus: RIL, Tata Motors, SH Kelkar a...\n",
       "7                 Auto rally powers Nifty above 18,000\n",
       "8    Stocks To Watch: TCS, Tata Motors, RIL, Maruti...\n",
       "9    Tata Motors’ rally: Domestic biz promising, EV...\n",
       "Name: title, dtype: object"
      ]
     },
     "execution_count": 59,
     "metadata": {},
     "output_type": "execute_result"
    }
   ],
   "source": [
    "df_news[\"title\"]"
   ]
  },
  {
   "cell_type": "code",
   "execution_count": 60,
   "metadata": {},
   "outputs": [
    {
     "data": {
      "text/plain": [
       "\"Monday's top brokerage calls: TCS, Tata Motors and Motherson Sumi\""
      ]
     },
     "execution_count": 60,
     "metadata": {},
     "output_type": "execute_result"
    }
   ],
   "source": [
    "df_news[\"title\"][0]"
   ]
  },
  {
   "cell_type": "code",
   "execution_count": 94,
   "metadata": {},
   "outputs": [],
   "source": [
    "last_news = df_news.tail(5)"
   ]
  },
  {
   "cell_type": "code",
   "execution_count": 95,
   "metadata": {},
   "outputs": [
    {
     "data": {
      "text/html": [
       "<div>\n",
       "<style scoped>\n",
       "    .dataframe tbody tr th:only-of-type {\n",
       "        vertical-align: middle;\n",
       "    }\n",
       "\n",
       "    .dataframe tbody tr th {\n",
       "        vertical-align: top;\n",
       "    }\n",
       "\n",
       "    .dataframe thead th {\n",
       "        text-align: right;\n",
       "    }\n",
       "</style>\n",
       "<table border=\"1\" class=\"dataframe\">\n",
       "  <thead>\n",
       "    <tr style=\"text-align: right;\">\n",
       "      <th></th>\n",
       "      <th>title</th>\n",
       "      <th>media</th>\n",
       "      <th>date</th>\n",
       "      <th>datetime</th>\n",
       "      <th>desc</th>\n",
       "      <th>link</th>\n",
       "      <th>img</th>\n",
       "    </tr>\n",
       "  </thead>\n",
       "  <tbody>\n",
       "    <tr>\n",
       "      <th>5</th>\n",
       "      <td>Buzzing stocks for trade on October 11: TCS, R...</td>\n",
       "      <td>CNBCTV18</td>\n",
       "      <td>16 hours ago</td>\n",
       "      <td>2021-10-11 08:44:46.693022</td>\n",
       "      <td>Tata Motors | JLR sales during the September q...</td>\n",
       "      <td>https://www.cnbctv18.com/videos/market/stocks/...</td>\n",
       "      <td>data:image/gif;base64,R0lGODlhAQABAIAAAP//////...</td>\n",
       "    </tr>\n",
       "    <tr>\n",
       "      <th>6</th>\n",
       "      <td>Buy Tata Motors, target price Rs 450: ICICI Di...</td>\n",
       "      <td>The Economic Times</td>\n",
       "      <td>14 hours ago</td>\n",
       "      <td>2021-10-11 10:44:46.693022</td>\n",
       "      <td>The current market price of Tata Motors Ltd. i...</td>\n",
       "      <td>https://economictimes.indiatimes.com/markets/s...</td>\n",
       "      <td>data:image/gif;base64,R0lGODlhAQABAIAAAP//////...</td>\n",
       "    </tr>\n",
       "    <tr>\n",
       "      <th>7</th>\n",
       "      <td>Stocks in focus: RIL, Tata Motors, SH Kelkar a...</td>\n",
       "      <td>The Economic Times</td>\n",
       "      <td>15 hours ago</td>\n",
       "      <td>2021-10-11 09:44:46.693022</td>\n",
       "      <td>Stocks in focus: RIL, Tata Motors, SH Kelkar a...</td>\n",
       "      <td>https://economictimes.indiatimes.com/markets/s...</td>\n",
       "      <td>data:image/gif;base64,R0lGODlhAQABAIAAAP//////...</td>\n",
       "    </tr>\n",
       "    <tr>\n",
       "      <th>8</th>\n",
       "      <td>Auto rally powers Nifty above 18,000</td>\n",
       "      <td>Reuters</td>\n",
       "      <td>8 hours ago</td>\n",
       "      <td>2021-10-11 16:44:46.755557</td>\n",
       "      <td>Tata Motors had said here on Friday that JLR's...</td>\n",
       "      <td>https://www.reuters.com/article/india-stocks/a...</td>\n",
       "      <td>data:image/gif;base64,R0lGODlhAQABAIAAAP//////...</td>\n",
       "    </tr>\n",
       "    <tr>\n",
       "      <th>9</th>\n",
       "      <td>India car sales analysed – September 2021</td>\n",
       "      <td>CarWale</td>\n",
       "      <td>15 hours ago</td>\n",
       "      <td>2021-10-11 09:44:46.755557</td>\n",
       "      <td>Tata Motors is the only one among the top-five...</td>\n",
       "      <td>https://www.carwale.com/news/india-car-sales-a...</td>\n",
       "      <td>data:image/gif;base64,R0lGODlhAQABAIAAAP//////...</td>\n",
       "    </tr>\n",
       "  </tbody>\n",
       "</table>\n",
       "</div>"
      ],
      "text/plain": [
       "                                               title               media  \\\n",
       "5  Buzzing stocks for trade on October 11: TCS, R...            CNBCTV18   \n",
       "6  Buy Tata Motors, target price Rs 450: ICICI Di...  The Economic Times   \n",
       "7  Stocks in focus: RIL, Tata Motors, SH Kelkar a...  The Economic Times   \n",
       "8               Auto rally powers Nifty above 18,000             Reuters   \n",
       "9          India car sales analysed – September 2021             CarWale   \n",
       "\n",
       "           date                   datetime  \\\n",
       "5  16 hours ago 2021-10-11 08:44:46.693022   \n",
       "6  14 hours ago 2021-10-11 10:44:46.693022   \n",
       "7  15 hours ago 2021-10-11 09:44:46.693022   \n",
       "8   8 hours ago 2021-10-11 16:44:46.755557   \n",
       "9  15 hours ago 2021-10-11 09:44:46.755557   \n",
       "\n",
       "                                                desc  \\\n",
       "5  Tata Motors | JLR sales during the September q...   \n",
       "6  The current market price of Tata Motors Ltd. i...   \n",
       "7  Stocks in focus: RIL, Tata Motors, SH Kelkar a...   \n",
       "8  Tata Motors had said here on Friday that JLR's...   \n",
       "9  Tata Motors is the only one among the top-five...   \n",
       "\n",
       "                                                link  \\\n",
       "5  https://www.cnbctv18.com/videos/market/stocks/...   \n",
       "6  https://economictimes.indiatimes.com/markets/s...   \n",
       "7  https://economictimes.indiatimes.com/markets/s...   \n",
       "8  https://www.reuters.com/article/india-stocks/a...   \n",
       "9  https://www.carwale.com/news/india-car-sales-a...   \n",
       "\n",
       "                                                 img  \n",
       "5  data:image/gif;base64,R0lGODlhAQABAIAAAP//////...  \n",
       "6  data:image/gif;base64,R0lGODlhAQABAIAAAP//////...  \n",
       "7  data:image/gif;base64,R0lGODlhAQABAIAAAP//////...  \n",
       "8  data:image/gif;base64,R0lGODlhAQABAIAAAP//////...  \n",
       "9  data:image/gif;base64,R0lGODlhAQABAIAAAP//////...  "
      ]
     },
     "execution_count": 95,
     "metadata": {},
     "output_type": "execute_result"
    }
   ],
   "source": [
    "last_news"
   ]
  },
  {
   "cell_type": "code",
   "execution_count": 85,
   "metadata": {},
   "outputs": [
    {
     "name": "stdout",
     "output_type": "stream",
     "text": [
      "Buy Tata Motors, target price Rs 450: ICICI Direct\n",
      "Stocks in focus: RIL, Tata Motors, SH Kelkar and more\n",
      "Auto rally powers Nifty above 18,000\n",
      "Stocks To Watch: TCS, Tata Motors, RIL, Maruti Suzuki, Cadila, Aditya Birla Sun Life AMC\n",
      "Tata Motors’ rally: Domestic biz promising, EV strategy ahead of competitors, says Kotak Institutional Equitie\n"
     ]
    }
   ],
   "source": [
    "#print(last_news[\"title\"])\n",
    "for i in last_news.head()[\"title\"]:\n",
    "    print(i)"
   ]
  },
  {
   "cell_type": "code",
   "execution_count": 75,
   "metadata": {},
   "outputs": [
    {
     "name": "stdout",
     "output_type": "stream",
     "text": [
      "Monday's top brokerage calls: TCS, Tata Motors and Motherson Sumi\n",
      "Tata Stocks at full throttle on robust Q2, business outlook\n",
      "Tata Motors shares rally over 21% in 5 days. ICICI Securities sees more upside\n",
      "Tata Motors and Tata Power set up EV charging infra at fourth ...\n",
      "Function first, form second as Tata Punch looks to woo SUV aficionados\n"
     ]
    }
   ],
   "source": [
    "for i in df_news.head()[\"title\"]:\n",
    "    print(i)"
   ]
  },
  {
   "cell_type": "code",
   "execution_count": 88,
   "metadata": {},
   "outputs": [
    {
     "data": {
      "text/html": [
       "<div>\n",
       "<style scoped>\n",
       "    .dataframe tbody tr th:only-of-type {\n",
       "        vertical-align: middle;\n",
       "    }\n",
       "\n",
       "    .dataframe tbody tr th {\n",
       "        vertical-align: top;\n",
       "    }\n",
       "\n",
       "    .dataframe thead th {\n",
       "        text-align: right;\n",
       "    }\n",
       "</style>\n",
       "<table border=\"1\" class=\"dataframe\">\n",
       "  <thead>\n",
       "    <tr style=\"text-align: right;\">\n",
       "      <th></th>\n",
       "      <th>title</th>\n",
       "      <th>datetime</th>\n",
       "    </tr>\n",
       "  </thead>\n",
       "  <tbody>\n",
       "    <tr>\n",
       "      <th>0</th>\n",
       "      <td>Monday's top brokerage calls: TCS, Tata Motors...</td>\n",
       "      <td>2021-10-11 09:44:46.645301</td>\n",
       "    </tr>\n",
       "    <tr>\n",
       "      <th>1</th>\n",
       "      <td>Tata Stocks at full throttle on robust Q2, bus...</td>\n",
       "      <td>2021-10-11 06:44:46.645301</td>\n",
       "    </tr>\n",
       "    <tr>\n",
       "      <th>2</th>\n",
       "      <td>Tata Motors shares rally over 21% in 5 days. I...</td>\n",
       "      <td>2021-10-11 13:44:46.652840</td>\n",
       "    </tr>\n",
       "    <tr>\n",
       "      <th>3</th>\n",
       "      <td>Zerodha's Nithin Kamath ‘feeling proud’ of Mah...</td>\n",
       "      <td>2021-10-11 18:44:46.684848</td>\n",
       "    </tr>\n",
       "    <tr>\n",
       "      <th>4</th>\n",
       "      <td>Tata Motors accelerates BEST’s green mobility ...</td>\n",
       "      <td>2021-10-11 20:44:46.693022</td>\n",
       "    </tr>\n",
       "    <tr>\n",
       "      <th>5</th>\n",
       "      <td>Buzzing stocks for trade on October 11: TCS, R...</td>\n",
       "      <td>2021-10-11 08:44:46.693022</td>\n",
       "    </tr>\n",
       "    <tr>\n",
       "      <th>6</th>\n",
       "      <td>Buy Tata Motors, target price Rs 450: ICICI Di...</td>\n",
       "      <td>2021-10-11 10:44:46.693022</td>\n",
       "    </tr>\n",
       "    <tr>\n",
       "      <th>7</th>\n",
       "      <td>Stocks in focus: RIL, Tata Motors, SH Kelkar a...</td>\n",
       "      <td>2021-10-11 09:44:46.693022</td>\n",
       "    </tr>\n",
       "    <tr>\n",
       "      <th>8</th>\n",
       "      <td>Auto rally powers Nifty above 18,000</td>\n",
       "      <td>2021-10-11 16:44:46.755557</td>\n",
       "    </tr>\n",
       "    <tr>\n",
       "      <th>9</th>\n",
       "      <td>India car sales analysed – September 2021</td>\n",
       "      <td>2021-10-11 09:44:46.755557</td>\n",
       "    </tr>\n",
       "  </tbody>\n",
       "</table>\n",
       "</div>"
      ],
      "text/plain": [
       "                                               title  \\\n",
       "0  Monday's top brokerage calls: TCS, Tata Motors...   \n",
       "1  Tata Stocks at full throttle on robust Q2, bus...   \n",
       "2  Tata Motors shares rally over 21% in 5 days. I...   \n",
       "3  Zerodha's Nithin Kamath ‘feeling proud’ of Mah...   \n",
       "4  Tata Motors accelerates BEST’s green mobility ...   \n",
       "5  Buzzing stocks for trade on October 11: TCS, R...   \n",
       "6  Buy Tata Motors, target price Rs 450: ICICI Di...   \n",
       "7  Stocks in focus: RIL, Tata Motors, SH Kelkar a...   \n",
       "8               Auto rally powers Nifty above 18,000   \n",
       "9          India car sales analysed – September 2021   \n",
       "\n",
       "                    datetime  \n",
       "0 2021-10-11 09:44:46.645301  \n",
       "1 2021-10-11 06:44:46.645301  \n",
       "2 2021-10-11 13:44:46.652840  \n",
       "3 2021-10-11 18:44:46.684848  \n",
       "4 2021-10-11 20:44:46.693022  \n",
       "5 2021-10-11 08:44:46.693022  \n",
       "6 2021-10-11 10:44:46.693022  \n",
       "7 2021-10-11 09:44:46.693022  \n",
       "8 2021-10-11 16:44:46.755557  \n",
       "9 2021-10-11 09:44:46.755557  "
      ]
     },
     "execution_count": 88,
     "metadata": {},
     "output_type": "execute_result"
    }
   ],
   "source": [
    "df_news[[\"title\",\"datetime\"]]"
   ]
  },
  {
   "cell_type": "code",
   "execution_count": 77,
   "metadata": {},
   "outputs": [],
   "source": [
    "#save news result in csv"
   ]
  },
  {
   "cell_type": "code",
   "execution_count": 89,
   "metadata": {},
   "outputs": [
    {
     "name": "stdout",
     "output_type": "stream",
     "text": [
      "TATA MOTORS_10-12-2021.csv\n"
     ]
    }
   ],
   "source": [
    "now1 = dt.date.today()\n",
    "now2 = now1.strftime('%m-%d-%Y')\n",
    "filename=company_name+\"_\"+now2+\".csv\"\n",
    "print(filename)"
   ]
  },
  {
   "cell_type": "code",
   "execution_count": 90,
   "metadata": {},
   "outputs": [],
   "source": [
    "df_news.to_csv(filename, encoding='utf-8')"
   ]
  },
  {
   "cell_type": "code",
   "execution_count": null,
   "metadata": {},
   "outputs": [],
   "source": []
  }
 ],
 "metadata": {
  "kernelspec": {
   "display_name": "Python 3",
   "language": "python",
   "name": "python3"
  },
  "language_info": {
   "codemirror_mode": {
    "name": "ipython",
    "version": 3
   },
   "file_extension": ".py",
   "mimetype": "text/x-python",
   "name": "python",
   "nbconvert_exporter": "python",
   "pygments_lexer": "ipython3",
   "version": "3.8.5"
  }
 },
 "nbformat": 4,
 "nbformat_minor": 4
}
